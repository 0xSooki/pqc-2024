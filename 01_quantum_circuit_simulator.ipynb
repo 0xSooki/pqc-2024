{
 "cells": [
  {
   "cell_type": "markdown",
   "id": "afab845e-3d39-4b0f-8bd4-df66d846a7ef",
   "metadata": {
    "deletable": false,
    "editable": false,
    "nbgrader": {
     "cell_type": "markdown",
     "checksum": "4c0c5026b5a52338b7f6c1fc8fb78a83",
     "grade": false,
     "grade_id": "cell-70e4ec00b9678626",
     "locked": true,
     "schema_version": 3,
     "solution": false,
     "task": false
    },
    "tags": []
   },
   "source": [
    "# Programming Assignment 1 - A statevector simulator\n",
    "\n",
    "(This exercise is based on a [QOSF](https://qosf.org/) [Task](https://github.com/quantastica/qosf-mentorship/blob/master/qosf-simulator-task.ipynb))\n",
    "\n",
    "The goal is to implement a simple quantum circuit simulator. In general, a quantum circuit simulator should be capable of performing the following:\n",
    "\n",
    "- initialize state (see [DiVincenzo criteria](https://en.wikipedia.org/wiki/DiVincenzo%27s_criteria))\n",
    "- read program\n",
    "- calculate matrix operator\n",
    "- apply operator (modify state)\n",
    "- perform multi-shot measurement of all qubits using weighted random technique\n",
    "\n",
    "\n",
    "However, in order to implement simulator, it is best if you have function which returns operator for any unitary targeting any qubit(s).\n",
    "- [qosf-simulator-task-additional-info.pdf](https://github.com/quantastica/qosf-mentorship/blob/master/qosf-simulator-task-additional-info.pdf)\n",
    "- Book *Nielsen, Michael A.; Chuang, Isaac (2000). Quantum Computation and Quantum Information, 10th Anniversary Edition, Section 8.2.3, Operator-Sum Representation*"
   ]
  },
  {
   "cell_type": "markdown",
   "id": "14f2803b-26a4-4654-9745-cd0d9290505c",
   "metadata": {
    "deletable": false,
    "editable": false,
    "nbgrader": {
     "cell_type": "markdown",
     "checksum": "097249dc4449341de73066e5eaf5104f",
     "grade": false,
     "grade_id": "cell-13bbefe08df990d3",
     "locked": true,
     "schema_version": 3,
     "solution": false,
     "task": false
    },
    "tags": []
   },
   "source": [
    "## Background\n",
    "\n",
    "### Qubit\n",
    "\n",
    "Qubit is the basic unit of quantum information. It is a two-state (or two-level) quantum-mechanical system, and can be represented by a linear superposition of its two orthonormal basis states (or basis vectors). The vector representation of a single qubit is: ${\\vert a\\rangle =v_{0} \\vert 0\\rangle +v_{1} \\vert 1\\rangle \\rightarrow {\\begin{bmatrix}v_{0}\\\\v_{1}\\end{bmatrix}}}$,\n",
    "Here, ${\\displaystyle v_{0}}v_{0}$ and ${\\displaystyle v_{1}}v_{1}$ are the complex probability amplitudes of the qubit. These values determine the probability of measuring a 0 or a 1, when measuring the state of the qubit.\n",
    "\n",
    "Code:"
   ]
  },
  {
   "cell_type": "code",
   "execution_count": 3,
   "id": "5f906b6a-090e-4eec-aa98-a36d37eb47ad",
   "metadata": {
    "deletable": false,
    "editable": false,
    "nbgrader": {
     "cell_type": "code",
     "checksum": "605cb8ed16020345963c30c1be5dcfc3",
     "grade": false,
     "grade_id": "cell-25afffab4c96d6f7",
     "locked": true,
     "schema_version": 3,
     "solution": false,
     "task": false
    },
    "tags": []
   },
   "outputs": [],
   "source": [
    "# Qubit in |0> state (100% probability of measuring 0)\n",
    "# Remember this line for the exercise, when implementing initialisation\n",
    "q0 = [1, 0]\n",
    "\n",
    "# Qubit in |1> state (100% probability of measuring 1)\n",
    "q1 = [0, 1] \n",
    "\n",
    "# Qubit |+> state (superposition: 50% probability of measuring 0 and 50% probability of measuring 1)\n",
    "q2 = [0.7071067811865475, 0.7071067811865475]\n",
    "\n",
    "# Qubit |-> state (superposition: 50% probability of measuring 0 and 50% probability of measuring 1) with phase pi\n",
    "q3 = [0.7071067811865475, -0.7071067811865475]\n",
    "\n",
    "# Qubit |i> state (superposition: 50% probability of measuring 0 and 50% probability of measuring 1) with phase pi/2\n",
    "q3 = [0.7071067811865475, 0+0.7071067811865475j]\n",
    "\n",
    "# Qubit |-i> state (superposition: 50% probability of measuring 0 and 50% probability of measuring 1) with phase -pi/2\n",
    "q4 = [0.7071067811865475, 0-0.7071067811865475j]\n"
   ]
  },
  {
   "cell_type": "markdown",
   "id": "85cbd9d0-eaad-4aa7-b60f-fd06979563cc",
   "metadata": {
    "deletable": false,
    "editable": false,
    "nbgrader": {
     "cell_type": "markdown",
     "checksum": "f04a9026805dc88f8e86c4a2d7397b76",
     "grade": false,
     "grade_id": "cell-1d67170c2a1d8003",
     "locked": true,
     "schema_version": 3,
     "solution": false,
     "task": false
    },
    "tags": []
   },
   "source": [
    "Note that vector contains probability amplitudes - not probabilities. Probability amplitude is complex number and can be negative. Probability is calculated as absolute value squared:"
   ]
  },
  {
   "cell_type": "code",
   "execution_count": 4,
   "id": "40d07ba6-1fae-4321-abe8-b70a17b52f65",
   "metadata": {
    "deletable": false,
    "editable": false,
    "nbgrader": {
     "cell_type": "code",
     "checksum": "ad1f502669bbb94dd5e9e7bc56d85751",
     "grade": false,
     "grade_id": "cell-79b9a5f405d9a6a2",
     "locked": true,
     "schema_version": 3,
     "solution": false,
     "task": false
    },
    "tags": []
   },
   "outputs": [
    {
     "name": "stdout",
     "output_type": "stream",
     "text": [
      "[0.5 0.5]\n"
     ]
    }
   ],
   "source": [
    "import numpy as np\n",
    "\n",
    "# We use complex numbers, e.g. 0.7071067811865475+0j\n",
    "q4 = np.array([0.7071067811865475+0j, 0-0.7071067811865475j])\n",
    "\n",
    "# The probability is the square of the absolute values\n",
    "# Remember this line for the exercise, when implementing measurements\n",
    "p4 = np.abs(q4) ** 2\n",
    "print(p4)"
   ]
  },
  {
   "cell_type": "markdown",
   "id": "c3ec80cc-da49-40f5-8df5-06909da27d43",
   "metadata": {
    "deletable": false,
    "editable": false,
    "nbgrader": {
     "cell_type": "markdown",
     "checksum": "497a89bd2a8e68b2454703fd39e4ae60",
     "grade": false,
     "grade_id": "cell-6e89343b0668581e",
     "locked": true,
     "schema_version": 3,
     "solution": false,
     "task": false
    },
    "tags": []
   },
   "source": [
    "#### State vector\n",
    "\n",
    "The combined state of multiple qubits is the tensor product of their states (vectors). The [tensor product](https://en.wikipedia.org/wiki/Tensor_product) is denoted by the symbol ${\\displaystyle \\otimes }$.\n",
    "\n",
    "The vector representation of two qubits is:\n",
    "\n",
    "${\\displaystyle \\vert ab\\rangle =\\vert a\\rangle \\otimes \\vert b\\rangle =v_{00}\\vert 00\\rangle +v_{01}\\vert 01\\rangle +v_{10}\\vert 10\\rangle +v_{11}\\vert 11\\rangle \\rightarrow {\\begin{bmatrix}v_{00}\\\\v_{01}\\\\v_{10}\\\\v_{11}\\end{bmatrix}}}$\n",
    "\n",
    "Example:"
   ]
  },
  {
   "cell_type": "code",
   "execution_count": 5,
   "id": "3e76eb39-38fb-49bb-a5ab-e1ab787086df",
   "metadata": {
    "deletable": false,
    "editable": false,
    "nbgrader": {
     "cell_type": "code",
     "checksum": "2bcb554b673cf00add5c931262ad820f",
     "grade": false,
     "grade_id": "cell-c4235c4da2160b71",
     "locked": true,
     "schema_version": 3,
     "solution": false,
     "task": false
    },
    "tags": []
   },
   "outputs": [
    {
     "name": "stdout",
     "output_type": "stream",
     "text": [
      "[0 1 0 0]\n"
     ]
    }
   ],
   "source": [
    "# Qubit in |0> state (100% probability of measuring 0)\n",
    "q0 = [1, 0]\n",
    "\n",
    "# Qubit in |1> state (100% probability of measuring 1)\n",
    "q1 = [0, 1] \n",
    "\n",
    "# https://numpy.org/doc/stable/reference/generated/numpy.kron.html#numpy.kron\n",
    "combined_state = np.kron(q0, q1)\n",
    "\n",
    "# [1*0, 1*1, 0*0, 0*1]\n",
    "print(combined_state)"
   ]
  },
  {
   "cell_type": "markdown",
   "id": "608b3bd5-cc4b-4d0f-b9b6-35786e9a973a",
   "metadata": {
    "deletable": false,
    "editable": false,
    "nbgrader": {
     "cell_type": "markdown",
     "checksum": "4156a591fbb4be3a487dab57f0dceb54",
     "grade": false,
     "grade_id": "cell-502a08cffb24d8fe",
     "locked": true,
     "schema_version": 3,
     "solution": false,
     "task": false
    },
    "tags": []
   },
   "source": [
    "Now, what this vector tells us?\n",
    "\n",
    "It will be more clear if we write vector elements in a column with index expressed in binary format:\n",
    "\n",
    "```\n",
    "Index (dec)  Index (bin)  Amplitude  Probability\n",
    "================================================\n",
    "0            00           0          0 (  0%)\n",
    "1            01           1          1 (100%)\n",
    "2            10           0          0 (  0%)\n",
    "3            11           0          0 (  0%)\n",
    "```\n",
    "\n",
    "- First element (binary: 00) is probability of measuring 0 on both qubits.\n",
    "- Second element (binary: 01) is probability of measuring 0 on first qubit and 1 on second qubit.\n",
    "- Third element (binary: 10) is probability of measuring 1 on first qubit and 0 on second qubit.\n",
    "- Fourth element (binary: 11) is probability of measuring 1 on both qubits.\n",
    "\n",
    "#### Endianness\n",
    "\n",
    "It is important to say that different quantum programming frameworks use different orientation of bitstrings ([endianness](https://en.wikipedia.org/wiki/Endianness)). In previous example, left bit belongs to first qubit and right bit belongs to second qubit. This enconding is called \"big endian\".\n",
    "\n",
    "But, in some frameworks (like Qiskit), encoding is opposite: rightmost bit belongs to first qubit and leftmost bit belongs to last qubit. This is called \"little endian\".\n",
    "\n",
    "So, vector from our example in Qiskit's \"little endian\" encoding will look like this:\n",
    "\n",
    "```\n",
    "Index (dec)  Index (bin)  Amplitude  Probability\n",
    "================================================\n",
    "0            00           0          0 (  0%)\n",
    "1            01           0          0 (  0%)\n",
    "2            10           1          1 (100%)\n",
    "3            11           0          0 (  0%)\n",
    "```\n",
    "\n",
    "\"Little endian\" encoding:\n",
    "\n",
    "- First element (binary: 00) is probability of measuring 0 on both qubits.\n",
    "- Second element (binary: 01) is probability of measuring 0 on second qubit and 1 on first qubit.\n",
    "- Third element (binary: 10) is probability of measuring 1 on second qubit and 0 on first qubit.\n",
    "- Fourth element (binary: 11) is probability of measuring 1 on both qubits.\n"
   ]
  },
  {
   "cell_type": "markdown",
   "id": "dc6c214b-1354-4368-a4c8-5b2d3eb0026f",
   "metadata": {
    "deletable": false,
    "editable": false,
    "nbgrader": {
     "cell_type": "markdown",
     "checksum": "b4110faa415981982b84b5e986ad2115",
     "grade": false,
     "grade_id": "cell-0b1725c0f1b452ec",
     "locked": true,
     "schema_version": 3,
     "solution": false,
     "task": false
    },
    "tags": []
   },
   "source": [
    "### Quantum gates\n",
    "\n",
    "Quantum gates are basic units of quantum processing. Gates are represented as [unitary matrices](https://en.wikipedia.org/wiki/Unitary_matrix) (e.g. have determinant one).\n",
    "\n",
    "Quantum gates (usually) act on small number of qubits. We have single-qubit and multi-qubit gates. \n",
    "\n",
    "The action of the gate on a specific quantum state is found by multiplying the vector ${\\displaystyle \\vert \\psi _{1}\\rangle }$  which represents the state, by the matrix ${\\displaystyle U}$ representing the gate. The result is a new quantum state ${\\displaystyle \\vert \\psi _{2}\\rangle }$ \n",
    "\n",
    "${\\displaystyle U\\vert \\psi _{1}\\rangle =\\vert \\psi _{2}\\rangle }$\n",
    "\n",
    "\n",
    "**Exponential size**: n-qubit gate is represented as $2^n\\times2^n$ unitary matrix.\n",
    "\n",
    "Examples:\n",
    "\n",
    "#### Single qubit gates\n",
    "\n",
    "X (aka NOT, bit flip) gate is part of a more general set of gates known as [Pauli gates](https://en.wikipedia.org/wiki/Quantum_logic_gate#Pauli-X_gate):\n",
    "\n",
    "$X = \\begin{bmatrix} 0 & 1 \\\\ 1 & 0 \\end{bmatrix}$\n",
    "\n",
    "Hadamard gate:\n",
    "\n",
    "$H = \\tfrac{1}{\\sqrt{2}}\\begin{bmatrix} 1 & 1 \\\\ 1 & -1 \\end{bmatrix}$\n",
    "\n",
    "T gate:\n",
    "\n",
    "$T = \\begin{bmatrix} 1 & 0 \\\\ 0 & e^{i\\frac{\\pi}{4}} \\end{bmatrix}$\n",
    "\n",
    "General single qubit rotation gate:\n",
    "\n",
    "$U_3(\\theta, \\phi, \\lambda) = \n",
    "\\begin{bmatrix} \\cos(\\theta/2) & -e^{i\\lambda}\\sin(\\theta/2) \\\\ \n",
    "                e^{i\\phi}\\sin(\\theta/2) & e^{i\\lambda+i\\phi}\\cos(\\theta/2)\n",
    "\\end{bmatrix}$\n",
    "\n",
    "#### Two-qubit gates:\n",
    "\n",
    "${CNOT} =\n",
    "\\begin{bmatrix}\n",
    "      1 & 0 & 0 & 0 \\\\\n",
    "      0 & 1 & 0 & 0 \\\\\n",
    "      0 & 0 & 0 & 1 \\\\\n",
    "      0 & 0 & 1 & 0 \\\\\n",
    "\\end{bmatrix}$\n",
    "\n",
    "${SWAP} = \n",
    "\\begin{bmatrix}\n",
    "    1 & 0 & 0 & 0 \\\\\n",
    "    0 & 0 & 1 & 0 \\\\\n",
    "    0 & 1 & 0 & 0 \\\\\n",
    "    0 & 0 & 0 & 1 \\\\\n",
    "\\end{bmatrix}$\n",
    "\n",
    "#### Examples\n",
    "\n",
    "Let's see how single-qubit gate modifies state of the qubit:"
   ]
  },
  {
   "cell_type": "code",
   "execution_count": 6,
   "id": "4e290bb4-c770-4f6e-9a6e-05e38314a43b",
   "metadata": {
    "deletable": false,
    "editable": false,
    "nbgrader": {
     "cell_type": "code",
     "checksum": "371a28c41d59c871a3bfea537d348863",
     "grade": false,
     "grade_id": "cell-d53d5676c0df1f04",
     "locked": true,
     "schema_version": 3,
     "solution": false,
     "task": false
    },
    "tags": []
   },
   "outputs": [
    {
     "name": "stdout",
     "output_type": "stream",
     "text": [
      "Initial state:\t [1 0]\n",
      "1. Final state:\t [0 1]\n",
      "2. Final state:\t [1 0]\n"
     ]
    }
   ],
   "source": [
    "import numpy as np\n",
    "\n",
    "# Let's start with qubit in state |0> (100% probability of measuring 0)   \n",
    "q0 = np.array([1, 0])\n",
    "\n",
    "print(\"Initial state:\\t\", q0)\n",
    "\n",
    "# Define X (NOT) gate:\n",
    "X = np.array([\n",
    "  [0, 1],\n",
    "  [1, 0]\n",
    "])\n",
    "\n",
    "# Now apply X gate to a qubit (matrix-vector dot product):\n",
    "q0 = np.dot(X, q0)\n",
    "print(\"1. Final state:\\t\", q0)\n",
    "\n",
    "q0 = np.dot(X, q0)\n",
    "print(\"2. Final state:\\t\", q0)"
   ]
  },
  {
   "cell_type": "markdown",
   "id": "7dfdc39e-2ee2-42ad-a0ee-832447472ff1",
   "metadata": {
    "deletable": false,
    "editable": false,
    "nbgrader": {
     "cell_type": "markdown",
     "checksum": "50f9f026a888f7c7d82f15f52131ae3f",
     "grade": false,
     "grade_id": "cell-45dccfec839eceed",
     "locked": true,
     "schema_version": 3,
     "solution": false,
     "task": false
    },
    "tags": []
   },
   "source": [
    "After applying X gate, qubit flips from state $|0\\rangle$ to state $|1\\rangle$.\n",
    "\n",
    "Now, let's see how Hadamard gate works:"
   ]
  },
  {
   "cell_type": "code",
   "execution_count": 7,
   "id": "0ddd0370-831c-4013-b0ed-488dd681dda7",
   "metadata": {
    "deletable": false,
    "editable": false,
    "nbgrader": {
     "cell_type": "code",
     "checksum": "97183b92f987defea78e30c1da450691",
     "grade": false,
     "grade_id": "cell-865d98463736fad6",
     "locked": true,
     "schema_version": 3,
     "solution": false,
     "task": false
    },
    "tags": []
   },
   "outputs": [
    {
     "name": "stdout",
     "output_type": "stream",
     "text": [
      "Initial state:\t [1 0]\n",
      "Final state:\t [0.70710678 0.70710678]\n"
     ]
    }
   ],
   "source": [
    "import numpy as np\n",
    "\n",
    "# Let's start with qubit in state |0> (100% probability of measuring 0)\n",
    "q0 = np.array([1, 0])\n",
    "print(\"Initial state:\\t\", q0)\n",
    "\n",
    "# Define H (Hadamard) gate:\n",
    "H = np.array([\n",
    "  [1/np.sqrt(2), 1/np.sqrt(2)],\n",
    "  [1/np.sqrt(2), -1/np.sqrt(2)]\n",
    "])\n",
    "\n",
    "# Now apply H gate to a qubit (matrix-vector dot product):\n",
    "# q0 = np.dot(X, q0)\n",
    "q0 = np.dot(H, q0)\n",
    "print(\"Final state:\\t\", q0)"
   ]
  },
  {
   "cell_type": "markdown",
   "id": "19c4b8c6-eb08-4c5a-ba93-4b2ae83bef99",
   "metadata": {
    "deletable": false,
    "editable": false,
    "nbgrader": {
     "cell_type": "markdown",
     "checksum": "892961dff1d5a70af348afde0549a47c",
     "grade": false,
     "grade_id": "cell-bd2225bdc0a64b5f",
     "locked": true,
     "schema_version": 3,
     "solution": false,
     "task": false
    },
    "tags": []
   },
   "source": [
    "After applying Hadamard gate on qubit in state $|0\\rangle$ it evolves to state $|+\\rangle$ which is equal superposition."
   ]
  },
  {
   "cell_type": "markdown",
   "id": "5d2a692c-dd11-4cd9-909d-43ea68a9992d",
   "metadata": {
    "deletable": false,
    "editable": false,
    "nbgrader": {
     "cell_type": "markdown",
     "checksum": "4dc403f0b6eecd1698f4834471a08974",
     "grade": false,
     "grade_id": "cell-dce643ad687eb7dd",
     "locked": true,
     "schema_version": 3,
     "solution": false,
     "task": false
    },
    "tags": []
   },
   "source": [
    "### Matrix operator\n",
    "\n",
    "Quantum program evolves quantum state by multiplying state vector with each gate's unitary matrix (dot product). Note that dimension of the state vector and dimension of the unitary matrix describing a gate usually don't match. For example: 3-qubit quantum circuit's state vector has $2^n=2^3=8$ elements, but single-qubit gate has $2^n\\times2^n=2^1\\times2^1=2\\times2$ elements. In order to perform matrix-vector multiplication, we need to \"resize\" gate's matrix to the dimension of the state vector. Let's call that matrix a **matrix operator**.\n",
    "\n",
    "Note that size of the matrix operator is $2^n\\times2^n$ where $n$ is total number of qubits in the circuit, so storing it into memory and calculating it requires a lot of memory and cpu power for bigger circuits. Optimizing this code is most interesting and challenging part, but for our purpose it is enough if you make it work smoothly with 8 qubits (the more - the better).\n",
    "\n",
    "#### Matrix operator for single-qubit gates\n",
    "\n",
    "Matrix operator for single-qubit gate can be calculated by performing tensor product of gate's unitary matrix and $2\\times2$ identity matrices in correct order.\n",
    "\n",
    "Example for single-qubit gate $U$ in 3-qubit circuit:\n",
    "\n",
    "- gate on qubit 0: ${O=U \\otimes I \\otimes I}$\n",
    "- gate on qubit 1: ${O=I \\otimes U \\otimes I}$\n",
    "- gate on qubit 2: ${O=I \\otimes I \\otimes U}$\n",
    "\n",
    "Example matrix operator for X gate acting on third qubit in 3-qubit circuit can be calculated like this:"
   ]
  },
  {
   "cell_type": "code",
   "execution_count": 8,
   "id": "af5a8dd5-dca0-4990-998b-78b86142c65a",
   "metadata": {
    "deletable": false,
    "editable": false,
    "nbgrader": {
     "cell_type": "code",
     "checksum": "d52a899e73a34be99f7f25a47f8af80c",
     "grade": false,
     "grade_id": "cell-f7409dd5d95cf873",
     "locked": true,
     "schema_version": 3,
     "solution": false,
     "task": false
    },
    "tags": []
   },
   "outputs": [
    {
     "name": "stdout",
     "output_type": "stream",
     "text": [
      "Initial state: [1, 0, 0, 0, 0, 0, 0, 0]\n",
      "\n",
      "Operator:\n",
      " [[0. 1. 0. 0. 0. 0. 0. 0.]\n",
      " [1. 0. 0. 0. 0. 0. 0. 0.]\n",
      " [0. 0. 0. 1. 0. 0. 0. 0.]\n",
      " [0. 0. 1. 0. 0. 0. 0. 0.]\n",
      " [0. 0. 0. 0. 0. 1. 0. 0.]\n",
      " [0. 0. 0. 0. 1. 0. 0. 0.]\n",
      " [0. 0. 0. 0. 0. 0. 0. 1.]\n",
      " [0. 0. 0. 0. 0. 0. 1. 0.]] \n",
      "\n",
      "Final state: [0. 1. 0. 0. 0. 0. 0. 0.]\n"
     ]
    }
   ],
   "source": [
    "import numpy as np\n",
    "\n",
    "# Let's define state vector of the 3-qubit circuit in \"ground state\" (all qubits in state |0>)\n",
    "# |000>\n",
    "psi = [1, 0, 0, 0, 0, 0, 0, 0]\n",
    "print(\"Initial state:\", psi)\n",
    "\n",
    "# Define X (NOT) gate:\n",
    "X = np.array([\n",
    "  [0, 1],\n",
    "  [1, 0]\n",
    "])\n",
    "\n",
    "# Define 2x2 identity\n",
    "I = np.identity(2)\n",
    "\n",
    "# The maximum number of qubits in the circuit\n",
    "# The state psi has three qubits,  too\n",
    "NR_MAX_Q = 3\n",
    "\n",
    "# Calculate operator for X gate acting on third qubit in 3-qubit circuit\n",
    "# I I X\n",
    "O = 1\n",
    "\n",
    "index_single_qubit_gate = 2\n",
    "\n",
    "for i in range(NR_MAX_Q):\n",
    "  if i == index_single_qubit_gate:\n",
    "    O = np.kron(O, X)\n",
    "  else:\n",
    "    O = np.kron(O, I)\n",
    "\n",
    "print(\"\\nOperator:\\n\", O, \"\\n\")\n",
    "\n",
    "# And finally, apply operator\n",
    "# |001>\n",
    "psi = np.dot(psi, O)\n",
    "print(\"Final state:\", psi)"
   ]
  },
  {
   "cell_type": "markdown",
   "id": "a12b5e87-cd74-4e23-9526-153e53a2a5ea",
   "metadata": {
    "deletable": false,
    "editable": false,
    "nbgrader": {
     "cell_type": "markdown",
     "checksum": "f6a27e59ce052f231401c5028a3da9c3",
     "grade": false,
     "grade_id": "cell-976d719450c98a57",
     "locked": true,
     "schema_version": 3,
     "solution": false,
     "task": false
    },
    "tags": []
   },
   "source": [
    "We are dealing with \"big endian\" encoding, so this result is correct: third qubit is flipped to state $|1\\rangle$  and other qubits are not changed.\n",
    "\n",
    "**Note**: if we want vector in \"little endian\" encoding (like Qiskit), then order in which we perform tensor product to calculate operator is opposite. Instead ${O=I \\otimes I \\otimes U}$ we would do ${O=U \\otimes I \\otimes I}$."
   ]
  },
  {
   "cell_type": "markdown",
   "id": "de852a86-5588-4d27-b8e5-30bfb29567c8",
   "metadata": {
    "deletable": false,
    "editable": false,
    "nbgrader": {
     "cell_type": "markdown",
     "checksum": "2825ca5770466454699d6ebecc65407a",
     "grade": false,
     "grade_id": "cell-40a0424d39322102",
     "locked": true,
     "schema_version": 3,
     "solution": false,
     "task": false
    },
    "tags": []
   },
   "source": [
    "#### Matrix operator for multi-qubit gates\n",
    "\n",
    "If we want to apply two qubit gate on subsequent qubits ( 0-1, 1-2, 2-3 etc.) then we can use the same technique like we do with single qubit gates:\n",
    "\n",
    "For 3-qubit circuit, CNOT gate (see code below):\n",
    "\n",
    "- acting on first and second qubit, operator is ${O=CNOT \\otimes I}$\n",
    "\n",
    "- acting on second and third qubit, operator is ${O=I \\otimes CNOT}$\n",
    "\n",
    "But, multi-qubit gates can be applied to qubits which are not consequent, so this is not that trivial.\n",
    "\n",
    "The main feature of a controlled-$U$ operation, for any unitary $U$, is that it (coherently) performs an operation on some qubits depending on the value of some single qubit. The way that we can write this explicitly algebraically (with the control on the first qubit) is:\n",
    "\n",
    "$\\mathit{CU} \\;=\\; \\vert{0}\\rangle\\!\\langle{0}\\vert \\!\\otimes\\! \\mathbf 1 \\,+\\, \\vert{1}\\rangle\\!\\langle{1}\\vert \\!\\otimes\\! U$\n",
    "\n",
    "where ${\\mathbf 1}$ is an identity matrix of the same dimension as $U$.\n",
    "\n",
    "Here, ${\\vert{0}\\rangle\\!\\langle{0}\\vert}$ and ${\\vert{1}\\rangle\\!\\langle{1}\\vert}$ are projectors onto the states ${\\vert{0}\\rangle}$ and ${\\vert{1}\\rangle}$ of the control qubit &mdash; but we are not using them here as elements of a measurement, but to describe the effect on the other qubits depending on one or the other subspace of the state-space of the first qubit.\n",
    "\n",
    "We can use this to derive the matrix for the gate ${\\mathit{CX}_{1,3}}$ which performs an $X$ operation on qubit 3, coherently conditioned on the state of qubit 1, by thinking of this as a controlled-${(\\mathbf 1_2 \\!\\otimes\\! X)}$ operation on qubits 1 and 3:\n",
    "\n",
    "$\\begin{aligned}\n",
    "\\mathit{CX}_{1,3} \\;&=\\;\n",
    "\\vert{0}\\rangle\\!\\langle{0}\\vert \\otimes \\mathbf 1_4 \\,+\\, \\vert{1}\\rangle\\!\\langle{1}\\vert \\otimes (\\mathbf 1_2 \\otimes X)\n",
    "\\\\[1ex]&=\\;\n",
    "\\begin{bmatrix}\n",
    "  \\mathbf 1_4 & \\mathbf 0_4  \\\\\n",
    "  \\mathbf 0_4 & (\\mathbf 1_2 \\!\\otimes\\! X) \n",
    "\\end{bmatrix}\n",
    "\\;=\\;\n",
    "\\begin{bmatrix}\n",
    "  \\mathbf 1_2 & \\mathbf 0_2 & \\mathbf 0_2 & \\mathbf 0_2 \\\\\n",
    "  \\mathbf 0_2 & \\mathbf 1_2 & \\mathbf 0_2 & \\mathbf 0_2 \\\\\n",
    "  \\mathbf 0_2 & \\mathbf 0_2 & X & \\mathbf 0_2 \\\\\n",
    "  \\mathbf 0_2 & \\mathbf 0_2 & \\mathbf 0_2 & X\n",
    "\\end{bmatrix},\n",
    "\\end{aligned}$\n",
    "\n",
    "where the latter two are block matrix representations to save on space (and sanity).\n",
    "\n",
    "Better still: we can recognise that &mdash; on some mathematical level where we allow ourselves to realise that the order of the tensor factors doesn't have to be in some fixed order &mdash; the control and the target of the operation can be on any two tensor factors, and that we can fill in the description of the operator on all of the other qubits with $\\mathbf 1_2$. This would allow us to jump straight to the representation\n",
    "\n",
    "$\\begin{aligned}\n",
    "\\mathit{CX}_{1,3} \\;&=&\\;\n",
    "\\underbrace{\\vert{0}\\rangle\\!\\langle{0}\\vert}_{\\text{control}} \\otimes \\underbrace{\\;\\mathbf 1_2\\;}_{\\!\\!\\!\\!\\text{uninvolved}\\!\\!\\!\\!} \\otimes \\underbrace{\\;\\mathbf 1_2\\;}_{\\!\\!\\!\\!\\text{target}\\!\\!\\!\\!}\n",
    "&+\\,\n",
    "\\underbrace{\\vert{1}\\rangle\\!\\langle{1}\\vert}_{\\text{control}} \\otimes \\underbrace{\\;\\mathbf 1_2\\;}_{\\!\\!\\!\\!\\text{uninvolved}\\!\\!\\!\\!} \\otimes \\underbrace{\\; X\\;}_{\\!\\!\\!\\!\\text{target}\\!\\!\\!\\!}\n",
    "\\\\[1ex]&=&\\;\n",
    "\\begin{bmatrix}\n",
    "  \\mathbf 1_2 & \\mathbf 0_2 & \\phantom{\\mathbf 0_2} & \\phantom{\\mathbf 0_2} \\\\\n",
    "  \\mathbf 0_2 & \\mathbf 1_2 & \\phantom{\\mathbf 0_2} & \\phantom{\\mathbf 0_2} \\\\\n",
    "  \\phantom{\\mathbf 0_2} & \\phantom{\\mathbf 0_2} & \\phantom{\\mathbf 0_2} & \\phantom{\\mathbf 0_2} \\\\\n",
    "  \\phantom{\\mathbf 0_2} & \\phantom{\\mathbf 0_2} & \\phantom{\\mathbf 0_2} & \\phantom{\\mathbf 0_2}\n",
    "\\end{bmatrix}\n",
    "\\,&+\\,\n",
    "\\begin{bmatrix}\n",
    "  \\phantom{\\mathbf 0_2} & \\phantom{\\mathbf 0_2} & \\phantom{\\mathbf 0_2} & \\phantom{\\mathbf 0_2} \\\\\n",
    "  \\phantom{\\mathbf 0_2} & \\phantom{\\mathbf 0_2} & \\phantom{\\mathbf 0_2} & \\phantom{\\mathbf 0_2} \\\\\n",
    "  \\phantom{\\mathbf 0_2} & \\phantom{\\mathbf 0_2} & X & \\mathbf 0_2 \\\\\n",
    "  \\phantom{\\mathbf 0_2} & \\phantom{\\mathbf 0_2} & {\\mathbf 0_2} & X\n",
    "\\end{bmatrix}\n",
    "\\end{aligned}$\n",
    "\n",
    "and also allows us to immediately see what to do if the roles of control and target are reversed:\n",
    "\n",
    "$\\begin{aligned}\n",
    "\\mathit{CX}_{3,1} \\;&=&\\;\n",
    "\\underbrace{\\;\\mathbf 1_2\\;}_{\\!\\!\\!\\!\\text{target}\\!\\!\\!\\!} \\otimes \\underbrace{\\;\\mathbf 1_2\\;}_{\\!\\!\\!\\!\\text{uninvolved}\\!\\!\\!\\!} \\otimes \\underbrace{\\vert{0}\\rangle\\!\\langle{0}\\vert}_{\\text{control}}\n",
    "\\,&+\\,\n",
    "\\underbrace{\\;X\\;}_{\\!\\!\\!\\!\\text{target}\\!\\!\\!\\!} \\otimes \\underbrace{\\;\\mathbf 1_2\\;}_{\\!\\!\\!\\!\\text{uninvolved}\\!\\!\\!\\!} \\otimes \\underbrace{\\vert{1}\\rangle\\!\\langle{1}\\vert}_{\\text{control}}\n",
    "\\\\[1ex]&=&\\;\n",
    "{\\scriptstyle\\begin{bmatrix}\n",
    " \\!\\vert{0}\\rangle\\!\\langle{0}\\vert\\!\\! & & & \\\\\n",
    " & \\!\\!\\vert{0}\\rangle\\!\\langle{0}\\vert\\!\\! & & \\\\\n",
    "& & \\!\\!\\vert{0}\\rangle\\!\\langle{0}\\vert\\!\\! & \\\\\n",
    "& & & \\!\\!\\vert{0}\\rangle\\!\\langle{0}\\vert\n",
    "\\end{bmatrix}}\n",
    "\\,&+\\,\n",
    "{\\scriptstyle\\begin{bmatrix}\n",
    " & & \\!\\!\\vert{1}\\rangle\\!\\langle{1}\\vert\\!\\! & \\\\\n",
    " & & & \\!\\!\\vert{1}\\rangle\\!\\langle{1}\\vert \\\\\n",
    "\\!\\vert{1}\\rangle\\!\\langle{1}\\vert\\!\\! & & &  \\\\\n",
    "& \\!\\!\\vert{1}\\rangle\\!\\langle{1}\\vert & &\n",
    "\\end{bmatrix}}\n",
    "\\\\[1ex]&=&\\;\n",
    "\\left[{\\scriptstyle\\begin{matrix}\n",
    "1 & 0 & 0 & 0 \\\\\n",
    "0 & 0 & 0 & 0 \\\\\n",
    "0 & 0 & 1 & 0 \\\\\n",
    "0 & 0 & 0 & 0 \\\\\n",
    "0 & 0 & 0 & 0 \\\\\n",
    "0 & 1 & 0 & 0 \\\\\n",
    "0 & 0 & 0 & 0 \\\\\n",
    "0 & 0 & 0 & 1\n",
    "\\end{matrix}}\\right.\\,\\,&\\,\\,\\left.{\\scriptstyle\\begin{matrix}\n",
    "0 & 0 & 0 & 0 \\\\\n",
    "0 & 1 & 0 & 0 \\\\\n",
    "0 & 0 & 0 & 0 \\\\\n",
    "0 & 0 & 0 & 1 \\\\\n",
    "1 & 0 & 0 & 0 \\\\\n",
    "0 & 0 & 0 & 0 \\\\\n",
    "0 & 0 & 1 & 0 \\\\\n",
    "0 & 0 & 0 & 0\n",
    "\\end{matrix}}\\right].\n",
    "\\end{aligned}$\n",
    "\n",
    "But best of all: if you can write down these operators algebraically, you can take the first steps towards dispensing with the giant matrices entirely, instead  reasoning about these operators algebraically using expressions such as $\\mathit{CX}_{1,3} =\n",
    "\\vert{0}\\rangle\\!\\langle{0}\\vert \\! \\otimes\\!\\mathbf 1_2\\! \\otimes\\! \\mathbf 1_2 +\n",
    " \\vert{1}\\rangle\\!\\langle{1}\\vert \\! \\otimes\\!  \\mathbf 1_2 \\! \\otimes\\!  X$\n",
    "and\n",
    "$\\mathit{CX}_{3,1} =\n",
    "\\mathbf 1_2 \\! \\otimes\\! \\mathbf 1_2 \\! \\otimes \\! \\vert{0}\\rangle\\!\\langle{0}\\vert +\n",
    "X \\! \\otimes\\! \\mathbf 1_2 \\! \\otimes \\! \\vert{1}\\rangle\\!\\langle{1}\\vert$."
   ]
  },
  {
   "cell_type": "markdown",
   "id": "deae5081-6d75-48e6-96b8-538702f741e2",
   "metadata": {
    "deletable": false,
    "editable": false,
    "nbgrader": {
     "cell_type": "markdown",
     "checksum": "b9091cbcdc211330905ff7cfffc89eac",
     "grade": false,
     "grade_id": "cell-1d78f7d21dc0bac4",
     "locked": true,
     "schema_version": 3,
     "solution": false,
     "task": false
    },
    "tags": []
   },
   "source": [
    "### Measurement\n",
    "\n",
    "State vector of the real quantum computer cannot be directly observed. All we can read out of qubit is a single classical bit. So best we can get as output from quantum computer is bitstring of size $n$ where $n$ is number of qubits. Reading the state from a qubit is called \"measurement\". When qubit is in superposition, measurement puts qubit in one of two classical states. If we read 1 from qubit, it will \"collapse\" to state |1> and will stay there - superposition is \"destroyed\", and any subsequent measurement will return the same result.\n",
    "\n",
    "Measurement is non-unitary operation on the state vector. But for simplicity, and because we can access state vector of our simulator, it is easier if we do it with a trick:\n",
    "\n",
    "We can simulate measurement by choosing element from the state vector with weighted random function. Elements with larger probability amplitude will be returned more often, and elements with smaller probability amplitude will be returned less often. Elements with zero probability will never be returned.\n",
    "\n",
    "For example, this state vector:\n",
    "\n",
    "```\n",
    "Index (dec)  Index (bin)  Amplitude   Probability\n",
    "=================================================\n",
    "0            00           0.70710678  0.5 (50%)\n",
    "1            01           0           0   ( 0%)\n",
    "2            10           0           0   ( 0%)\n",
    "3            11           0.70710678  0.5 (50%)\n",
    "```\n",
    "\n",
    "Our random function should return elements 00 and 11 equaly often and never return 01 and 10. If we execute it 1000 times (1000 shots) we should get something like this:\n",
    "\n",
    "```\n",
    "{\n",
    "  \"00\": 494,\n",
    "  \"11\": 506\n",
    "}\n",
    "```\n",
    "*(this is random, so it usually is not exactly 500/500 and that is completelly fine)*"
   ]
  },
  {
   "cell_type": "markdown",
   "id": "958577b2-adde-41f9-97ca-4cb436293c9d",
   "metadata": {
    "deletable": false,
    "editable": false,
    "nbgrader": {
     "cell_type": "markdown",
     "checksum": "a56b5050a7bf5a10820693dec95c6a1e",
     "grade": false,
     "grade_id": "cell-2e698ef4b758aff4",
     "locked": true,
     "schema_version": 3,
     "solution": false,
     "task": false
    },
    "tags": []
   },
   "source": [
    "## Declarations\n",
    "\n",
    "\n",
    "## Input format (quantum program)\n",
    "You can define unitaries in the code, and accept program with gate names:\n",
    "```\n",
    "[\n",
    "  { \"gate\": \"h\", \"qubits\": [0] }, \n",
    "  { \"gate\": \"cx\", \"qubits\": [0, 1] }\n",
    "  ...\n",
    "]\n",
    "```"
   ]
  },
  {
   "cell_type": "markdown",
   "id": "49465c4d-b921-4bf8-ac56-28ca421d077f",
   "metadata": {
    "tags": []
   },
   "source": [
    "**In the following, focus only on CNOT, H, and T gates. These gate form an universal gate set.**"
   ]
  },
  {
   "cell_type": "code",
   "execution_count": 9,
   "id": "9e724e6e-e048-4a53-a65f-4b24bd5ae797",
   "metadata": {
    "deletable": false,
    "nbgrader": {
     "cell_type": "code",
     "checksum": "85c35fce78cd2816bce19ee362762086",
     "grade": false,
     "grade_id": "cell-cae7769ebf90a0e5",
     "locked": false,
     "schema_version": 3,
     "solution": true,
     "task": false
    },
    "tags": []
   },
   "outputs": [],
   "source": [
    "import numpy as np\n",
    "import math\n",
    "import random\n",
    "import collections\n",
    "\n",
    "# Define X gate (CNOT is controlled-X):\n",
    "X = np.array([\n",
    "  [0, 1],\n",
    "  [1, 0]\n",
    "])\n",
    "\n",
    "# Define 2x2 Identity\n",
    "I = np.identity(2)\n",
    "\n",
    "# Define Hadamard gate:\n",
    "H = 1/np.sqrt(2)*np.array([\n",
    "  [1, 1],\n",
    "  [1, -1]\n",
    "])\n",
    "\n",
    "# Define T gate:\n",
    "T = np.array([\n",
    "  [1, 0],\n",
    "  [0, np.exp(1j*np.pi/4)]\n",
    "])\n",
    "\n",
    "# Define projection operator |0><0|\n",
    "P0x0 = np.array([\n",
    "  [1, 0],\n",
    "  [0, 0]\n",
    "])\n",
    "\n",
    "# Define projection operator |1><1|\n",
    "P1x1 = np.array([\n",
    "  [0, 0],\n",
    "  [0, 1]\n",
    "])"
   ]
  },
  {
   "cell_type": "markdown",
   "id": "455c81ff-a174-42e3-b9a9-bfe3cd20d556",
   "metadata": {
    "deletable": false,
    "editable": false,
    "nbgrader": {
     "cell_type": "markdown",
     "checksum": "22d65d599f04958127bd3213274bf1f9",
     "grade": false,
     "grade_id": "cell-e325c6f4308d740b",
     "locked": true,
     "schema_version": 3,
     "solution": false,
     "task": false
    },
    "tags": []
   },
   "source": [
    "## Simulator Framework"
   ]
  },
  {
   "cell_type": "code",
   "execution_count": 10,
   "id": "bf491185-1f08-405f-8cdf-deff98503be3",
   "metadata": {
    "deletable": false,
    "nbgrader": {
     "cell_type": "code",
     "checksum": "e1658ca0dce51b036313c7d421698a4c",
     "grade": true,
     "grade_id": "cell-0fbb15b88f8e9b9a",
     "locked": false,
     "points": 4,
     "schema_version": 3,
     "solution": true,
     "task": false
    },
    "tags": []
   },
   "outputs": [],
   "source": [
    "import itertools\n",
    "\n",
    "def get_ground_state(num_qubits):\n",
    "    st = np.zeros(2 ** num_qubits)\n",
    "    st[0] = 1\n",
    "    return st\n",
    "\n",
    "def get_operator(num_qubits, gate_unitary, qubits):\n",
    "    op = 1\n",
    "    op2 = 1\n",
    "    if len(qubits) > 1:\n",
    "        for i in range(num_qubits):\n",
    "            if i == qubits[0]:\n",
    "                op = np.kron(op, P0x0)\n",
    "                op2 = np.kron(op2,P1x1)\n",
    "            elif i == qubits[1]:\n",
    "                op = np.kron(op, I)\n",
    "                op2 = np.kron(op2, X)\n",
    "            else:\n",
    "                op = np.kron(op, I)  \n",
    "                op2 = np.kron(op2, I)\n",
    "        op = op + op2\n",
    "    else:\n",
    "        for i in range(num_qubits):\n",
    "            if i == qubits[0]:\n",
    "                op = np.kron(op, gate_unitary)\n",
    "            else:\n",
    "                op = np.kron(op, I)  \n",
    "\n",
    "    return op\n",
    "\n",
    "def run_program(program):\n",
    "    # read program, and for each gate:\n",
    "    #   - calculate matrix operator\n",
    "    #   - multiply state with operator\n",
    "    # return final state\n",
    "\n",
    "    # Find out num qubits\n",
    "    num_qubits = 0\n",
    "    for op in program:\n",
    "        if num_qubits < max(op[\"qubits\"]):\n",
    "            num_qubits = max(op[\"qubits\"])\n",
    "    # Indices run from zero, but number starts from 1\n",
    "    num_qubits += 1\n",
    "    print(\"maximum number of qubits\", num_qubits)\n",
    "\n",
    "    # See diVincenzo criteria -- init to |00000...0>\n",
    "    # In this example, \"|0>\"\n",
    "    state = get_ground_state(num_qubits)\n",
    "    # print(\"input:\", state)\n",
    "\n",
    "    output_state = np.array(state)\n",
    "    un = 0\n",
    "    for operation in program:\n",
    "        if operation[\"gate\"] == \"h\":\n",
    "            # print(\"we do Hadamard!\")\n",
    "            un = get_operator(num_qubits, H, operation[\"qubits\"])\n",
    "        if operation[\"gate\"] == \"cx\":\n",
    "            # print(\"we do CNOT!\")\n",
    "            un = get_operator(num_qubits, X, operation[\"qubits\"])\n",
    "        if operation[\"gate\"] == \"t\":\n",
    "            # print(\"we do T!\")\n",
    "            un = get_operator(num_qubits, T, operation[\"qubits\"])\n",
    "    \n",
    "        output_state = np.dot(un, output_state)\n",
    "\n",
    "    return output_state\n",
    "\n",
    "\n",
    "def measure_all(state_vector):\n",
    "    res = np.square(np.absolute(state_vector))\n",
    "\n",
    "    num_qubits = int(np.log2(len(state_vector)))\n",
    "    outcomes = [\"\".join(map(str, x)) for x in itertools.product([0, 1], repeat=num_qubits)]\n",
    "\n",
    "    return random.choices(outcomes, weights=res, k=1)[0]\n",
    "\n",
    "def get_counts(state_vector, num_shots):  \n",
    "    lista = []\n",
    "    for i in range(num_shots):\n",
    "        state_str = ( f\"{measure_all(state_vector)}\")\n",
    "        lista.append(state_str)\n",
    "\n",
    "    counter = collections.Counter(lista)\n",
    "    print(counter)\n",
    "    return counter"
   ]
  },
  {
   "cell_type": "markdown",
   "id": "2770c068-d667-4057-9319-b955a4f5e836",
   "metadata": {
    "deletable": false,
    "editable": false,
    "nbgrader": {
     "cell_type": "markdown",
     "checksum": "8fbf75dbf084b4df3c12aaca66dc5ca6",
     "grade": false,
     "grade_id": "cell-88ffc3b810bb5ee0",
     "locked": true,
     "schema_version": 3,
     "solution": false,
     "task": false
    },
    "tags": []
   },
   "source": [
    "## Test Circuits"
   ]
  },
  {
   "cell_type": "code",
   "execution_count": 11,
   "id": "49b9cb7a-1a80-42c1-91d4-0bfcd64cb808",
   "metadata": {
    "deletable": false,
    "editable": false,
    "nbgrader": {
     "cell_type": "code",
     "checksum": "261e597bf1f391e46900f6e764068e46",
     "grade": false,
     "grade_id": "cell-2db32d2e5c6a7cae",
     "locked": true,
     "schema_version": 3,
     "solution": false,
     "task": false
    },
    "tags": []
   },
   "outputs": [
    {
     "name": "stdout",
     "output_type": "stream",
     "text": [
      "\n",
      "\n",
      " *** GHZ\n",
      "maximum number of qubits 5\n",
      "Counter({'11011': 543, '00000': 457})\n",
      "Counter({'11011': 543, '00000': 457})\n",
      "\n",
      "\n",
      " *** Swap 01\n",
      "maximum number of qubits 2\n",
      "Counter({'01': 1000})\n",
      "Counter({'01': 1000})\n"
     ]
    }
   ],
   "source": [
    "ghz_with_zero = [\n",
    "  { \"gate\": \"h\", \"qubits\": [1] },\n",
    "  { \"gate\": \"cx\", \"qubits\": [1, 0] },\n",
    "  { \"gate\": \"cx\", \"qubits\": [1, 3] },\n",
    "  { \"gate\": \"cx\", \"qubits\": [1, 4] },\n",
    "]\n",
    "\n",
    "swap01 = [\n",
    "  { \"gate\": \"h\", \"qubits\": [0] },\n",
    "  { \"gate\": \"t\", \"qubits\": [0] },\n",
    "  { \"gate\": \"t\", \"qubits\": [0] },\n",
    "  { \"gate\": \"t\", \"qubits\": [0] },\n",
    "  { \"gate\": \"t\", \"qubits\": [0] },\n",
    "  { \"gate\": \"h\", \"qubits\": [0] },\n",
    "  { \"gate\": \"cx\", \"qubits\": [1, 0] },\n",
    "  { \"gate\": \"cx\", \"qubits\": [0, 1] },\n",
    "  { \"gate\": \"cx\", \"qubits\": [1, 0] },\n",
    "]\n",
    "\n",
    "# For the above test circuits the outputs should look like the ones below\n",
    "# \n",
    "#  *** GHZ\n",
    "# maximum number of qubits 5\n",
    "# Counter({'00000': 522, '11011': 478})\n",
    "#\n",
    "#\n",
    "#  *** Swap 01\n",
    "# maximum number of qubits 2\n",
    "# Counter({'01': 1000})\n",
    "#\n",
    "\n",
    "print(\"\\n\\n *** GHZ\")\n",
    "final_state = run_program(ghz_with_zero)\n",
    "counts = get_counts(final_state, 1000)\n",
    "\n",
    "assert (len(counts.keys()) == 2)\n",
    "assert '00000' in counts.keys()\n",
    "assert '11011' in counts.keys()\n",
    "assert counts['00000'] + counts['11011'] == 1000\n",
    "assert 450 <= counts['00000'] <= 550\n",
    "assert 450 <= counts['11011'] <= 550\n",
    "print(counts)\n",
    "\n",
    "print(\"\\n\\n *** Swap 01\")\n",
    "final_state = run_program(swap01)\n",
    "counts = get_counts(final_state, 1000)\n",
    "assert len(counts.keys()) == 1\n",
    "assert '01' in counts.keys()\n",
    "assert counts['01'] == 1000\n",
    "print(counts)"
   ]
  },
  {
   "cell_type": "code",
   "execution_count": null,
   "id": "813977ed-dd2d-4801-9195-5be900c311c7",
   "metadata": {
    "deletable": false,
    "editable": false,
    "nbgrader": {
     "cell_type": "code",
     "checksum": "780a814d4b3acef3416b67e6d113a923",
     "grade": true,
     "grade_id": "cell-c0ae2b145fd4e82b",
     "locked": true,
     "points": 4,
     "schema_version": 3,
     "solution": false,
     "task": false
    },
    "tags": []
   },
   "outputs": [],
   "source": []
  },
  {
   "cell_type": "code",
   "execution_count": null,
   "id": "93b9667e",
   "metadata": {},
   "outputs": [],
   "source": []
  }
 ],
 "metadata": {
  "kernelspec": {
   "display_name": "Python 3",
   "language": "python",
   "name": "python3"
  },
  "language_info": {
   "codemirror_mode": {
    "name": "ipython",
    "version": 3
   },
   "file_extension": ".py",
   "mimetype": "text/x-python",
   "name": "python",
   "nbconvert_exporter": "python",
   "pygments_lexer": "ipython3",
   "version": "3.11.9"
  }
 },
 "nbformat": 4,
 "nbformat_minor": 5
}

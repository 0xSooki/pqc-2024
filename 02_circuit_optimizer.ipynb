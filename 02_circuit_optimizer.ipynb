{
 "cells": [
  {
   "cell_type": "markdown",
   "id": "c38517d7-1173-4686-ba52-df8300ce0656",
   "metadata": {
    "deletable": false,
    "editable": false,
    "nbgrader": {
     "cell_type": "markdown",
     "checksum": "cf269fff98774485d40288258deee3f0",
     "grade": false,
     "grade_id": "cell-069c8c13b620b1d1",
     "locked": true,
     "schema_version": 3,
     "solution": false,
     "task": false
    },
    "tags": []
   },
   "source": [
    "# Write and Optimize a Circuit\n",
    "\n",
    "The [Bernstein Vazirani](https://en.wikipedia.org/wiki/Bernstein%E2%80%93Vazirani_algorithm) algorithm is one of the first quantum algorithms. The implementation of the algorithm is based on a secret string $a$  which is used to compute the function \n",
    "$f(x)=ax \\oplus b$. Assume, for the purpose of this exercise, that $b=0$. The strings $x$ and $a$ are $n$ bits wide. The value $f(x)$ is computed as $f(x)=\\sum a_i \\cap x_i \\,mod\\, 2$ where $\\cap$ is the [Boolean AND](https://en.wikipedia.org/wiki/Logical_conjunction) operation and the sum is [modulo 2](https://en.wikipedia.org/wiki/Modular_arithmetic).\n",
    "\n",
    "**Note:** Consider the circuit non-configurable with respect to ancillae. This means, the value of $a$ is not input on wires.\n",
    "\n",
    "**Note:** Use Google Cirq, because it has a more friendlier API: [Cirq](https://github.com/quantumlib/Cirq) \n",
    "\n",
    "**Note:** Only Python at all steps."
   ]
  },
  {
   "cell_type": "markdown",
   "id": "0b433f3f-465e-4808-b035-dfa5a19c94e5",
   "metadata": {
    "deletable": false,
    "editable": false,
    "nbgrader": {
     "cell_type": "markdown",
     "checksum": "e15220699741d6f3f19989090566a428",
     "grade": false,
     "grade_id": "cell-fd12ef147c48a749",
     "locked": true,
     "schema_version": 3,
     "solution": false,
     "task": false
    },
    "tags": []
   },
   "source": [
    "## 1. Compilation\n",
    "\n",
    "Write a method that generates a circuit for a parameter $n$ and a string $a$. For example, the following call `bernstein_vazirani(3, \"101\")` generates a 4-qubit circuit that uses the `101` string as a secret when building the oracle."
   ]
  },
  {
   "cell_type": "code",
   "execution_count": 28,
   "id": "1d111215-2832-42a7-a61a-c132ec3c1e6f",
   "metadata": {
    "tags": []
   },
   "outputs": [],
   "source": [
    "!pip install --quiet cirq"
   ]
  },
  {
   "cell_type": "code",
   "execution_count": 29,
   "id": "f196ea49-674d-4952-9f86-87ce1ea3dc12",
   "metadata": {
    "deletable": false,
    "nbgrader": {
     "cell_type": "code",
     "checksum": "236f4877565b876fb351c99558655522",
     "grade": true,
     "grade_id": "cell-3dbbeaf5edfd0bc2",
     "locked": false,
     "points": 2,
     "schema_version": 3,
     "solution": true,
     "task": false
    },
    "tags": []
   },
   "outputs": [],
   "source": [
    "import cirq\n",
    "\n",
    "def bernstein_vazirani(n, secret):\n",
    "    # n - number of bits\n",
    "    # secret - the bit string called 'a' in some of the algorithm descriptions\n",
    "    # Returns a n+1 qubit circuit, where the (n+1)-th qubit is for phase kickback\n",
    "    # The data type does not matter, but it would be easier to use the Cirq/Qiskit\n",
    "    # circuit data types\n",
    "  \n",
    "    circ = cirq.Circuit()\n",
    "    qs = cirq.LineQubit.range(n+1)\n",
    "    \n",
    "    circ.append([cirq.H(qi) for qi in qs])\n",
    "    circ.append([cirq.CX(qs[i], qs[n]) for i in range(n) if secret[i] == '1'])\n",
    "    circ.append([cirq.H(qi) for qi in qs])\n",
    "\n",
    "    return circ"
   ]
  },
  {
   "cell_type": "markdown",
   "id": "78fd91ba-4dd1-49b1-9d4a-ab99bc766077",
   "metadata": {
    "deletable": false,
    "editable": false,
    "nbgrader": {
     "cell_type": "markdown",
     "checksum": "d516f70b7e78171e61a9185d4376ab9c",
     "grade": false,
     "grade_id": "cell-8e9be1d65162a286",
     "locked": true,
     "schema_version": 3,
     "solution": false,
     "task": false
    },
    "tags": []
   },
   "source": [
    "## 2. Optimization\n",
    "\n",
    "One of the simplest circuit identities is the fact that a sequence of two Hadamard gates cancel, and that the direction of a CNOT can be flipped by using Hadamards."
   ]
  },
  {
   "attachments": {
    "d5ca317e-2878-4e47-bcbe-d499a14d351a.png": {
     "image/png": "[encoded data removed]"
    }
   },
   "cell_type": "markdown",
   "id": "44559e07-32f9-4f00-9dae-cf99130a269d",
   "metadata": {
    "deletable": false,
    "editable": false,
    "nbgrader": {
     "cell_type": "markdown",
     "checksum": "3368d58ced171e9d861c5d145cf2249d",
     "grade": false,
     "grade_id": "cell-7f7e5096863629c7",
     "locked": true,
     "schema_version": 3,
     "solution": false,
     "task": false
    },
    "tags": []
   },
   "source": [
    "template 1 ![grafik.png](data:image/png;base64,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)\n",
    "\n",
    "\n",
    "template 2  ![grafik.png](data:image/png;base64,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)\n",
    "\n",
    "template 3 ![grafik.png](data:image/png;base64,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)\n",
    "\n",
    "template 4 ![image.png](attachment:d5ca317e-2878-4e47-bcbe-d499a14d351a.png)"
   ]
  },
  {
   "cell_type": "markdown",
   "id": "3a055e59-5dfe-4b3f-8565-0895d57bd20b",
   "metadata": {
    "deletable": false,
    "editable": false,
    "nbgrader": {
     "cell_type": "markdown",
     "checksum": "0b4fadaf39bfb51b4b75c676b139258c",
     "grade": false,
     "grade_id": "cell-5ff33bd3496abe80",
     "locked": true,
     "schema_version": 3,
     "solution": false,
     "task": false
    },
    "tags": []
   },
   "source": [
    "Write a `optimize_bv` method that optimizes the circuit from `bernstein_vazirani` by performing the following sequence of operations (no need to implement a heuristic):\n",
    "* Apply Template 1: Replace the sequence HZH with an X gate where necessary.\n",
    "* Apply Template 2: Cancel adjacent Hadamard gates.\n",
    "* Apply Template 3: Invert the direction of all CNOT gates in the circuit.\n",
    "* Apply Template 4: CNOTs with the same control and different target can be joined into a single CNOT operation having single controll and different targets (note: this is not a Toffoli gate)\n",
    "\n",
    "\n",
    "**Note: You are not required to develop a general heuristic that works for any circuit. Your heuristic is perfectly fine if it works only for the Bernstein-Vazirani circuits.**\n",
    "\n",
    "**Note: Templates can be applied in both directions (right->left, left->right). For example, two Hadamards may be inserted for the purpose of applying template 3.**"
   ]
  },
  {
   "cell_type": "code",
   "execution_count": 30,
   "id": "c65fe728-f769-4922-a2ce-870771f2c314",
   "metadata": {
    "deletable": false,
    "nbgrader": {
     "cell_type": "code",
     "checksum": "defc3ed2d42edbe17e1749c458f47d20",
     "grade": true,
     "grade_id": "cell-ea815eed30b92cbe",
     "locked": false,
     "points": 6,
     "schema_version": 3,
     "solution": true,
     "task": false
    },
    "tags": []
   },
   "outputs": [],
   "source": [
    "class CNNOT(cirq.Gate):\n",
    "    def __init__(self, n: int):\n",
    "        super(CNNOT, self)\n",
    "        self.n = n\n",
    "\n",
    "    def num_qubits(self):\n",
    "        return 1 + self.n\n",
    "\n",
    "    def _decompose_(self, qubits):\n",
    "        control = qubits[0]\n",
    "        targets = qubits[1:]\n",
    "\n",
    "        return [cirq.CNOT(control, target) for target in targets]\n",
    "\n",
    "    def _circuit_diagram_info_(self, args):\n",
    "        return [\"@\"] + [\"X\" for _ in range(self.n)]\n",
    "\n",
    "def optimize_bv(n, bv_circuit):\n",
    "  \n",
    "    # n - number of bits\n",
    "    # bv_circuit - a quantum circuit, in this case a bernstein_vazirani circuit\n",
    "\n",
    "    # just to initialize the return value\n",
    "    opt_circuit = bv_circuit\n",
    "  \n",
    "    def merge_func1(op1: cirq.Operation, op2: cirq.Operation) -> cirq.Operation:\n",
    "        if op1.gate == cirq.H and op2.gate == cirq.H and op1.qubits == op2.qubits:\n",
    "            return cirq.IdentityGate(1)(op1.qubits[0])\n",
    "        return None\n",
    "    \n",
    "    \n",
    "    def map_func1(op: cirq.Operation, _: int) -> cirq.OP_TREE:\n",
    "        if op.gate == cirq.I:\n",
    "            pass\n",
    "        else:\n",
    "            yield op\n",
    "            \n",
    "    def map_func2(op: cirq.Operation, _: int) -> cirq.OP_TREE:\n",
    "        if op.gate == cirq.CX:\n",
    "            yield cirq.H(op.qubits[0])\n",
    "            yield cirq.H(op.qubits[1])\n",
    "            yield cirq.CX(op.qubits[1], op.qubits[0])\n",
    "            yield cirq.H(op.qubits[0])\n",
    "            yield cirq.H(op.qubits[1])\n",
    "            \n",
    "        else:\n",
    "            yield op\n",
    "\n",
    "    def merge_func2(m1: cirq.Moment, m2: cirq.Moment) -> cirq.Operation:\n",
    "        op1 = m1.operations[0]\n",
    "        op2 = m2.operations[0]\n",
    "        if ((isinstance(op1.gate, CNNOT) or isinstance(op1.gate, cirq.CX.__class__)) and isinstance(op2.gate, cirq.CX.__class__)):\n",
    "            control = op1.qubits[0]\n",
    "            targets = op1.qubits[1:] + op2.qubits[1:]\n",
    "            ncnot = CNNOT(len(op1.qubits))\n",
    "            return cirq.Moment(ncnot.on(control, *targets))\n",
    "        return None\n",
    "\n",
    "    qc = cirq.map_operations_and_unroll(opt_circuit, map_func2)\n",
    "    qc = cirq.merge_operations(qc, merge_func1)\n",
    "    qc = cirq.map_operations_and_unroll(qc, map_func1)\n",
    "    qc = cirq.merge_moments(qc, merge_func2)\n",
    "    return qc"
   ]
  },
  {
   "cell_type": "markdown",
   "id": "bff21d6a-a1eb-48f7-b278-3eede0f0bf02",
   "metadata": {
    "deletable": false,
    "editable": false,
    "nbgrader": {
     "cell_type": "markdown",
     "checksum": "08e46715c3320aa6cf977b2ac2bcde6c",
     "grade": false,
     "grade_id": "cell-9b976c3e16d15e6d",
     "locked": true,
     "schema_version": 3,
     "solution": false,
     "task": false
    },
    "tags": []
   },
   "source": [
    "## 3. Export\n",
    "\n",
    "A circuit should be exportable in a format that is compatible with a quantum circuit simulator. The past exercise used a verbose format which we would like to automatically generate at this point.\n",
    "\n",
    "The Bernstein Vazirani circuit does not necessarily include T gates, but the `export_circuit()` method should be able to handle T gates as well as H and CX. \n",
    "* The X gate should be decomposed by this function into Hadamards and T gates. \n",
    "* The Z gate should be decomposed into four T gates.\n",
    "\n",
    "```\n",
    "[\n",
    "  { \"gate\": \"h\", \"qubits\": [0] }, \n",
    "  { \"gate\": \"cx\", \"qubits\": [0, 1] }\n",
    "  ...\n",
    "]\n",
    "```"
   ]
  },
  {
   "cell_type": "code",
   "execution_count": 31,
   "id": "f0053481-086c-4ae5-838d-7319ce1bb685",
   "metadata": {
    "deletable": false,
    "nbgrader": {
     "cell_type": "code",
     "checksum": "92a8dfa5fc49b754e150bac0b6a49bd6",
     "grade": true,
     "grade_id": "cell-4955d27eb3fe9bb3",
     "locked": false,
     "points": 2,
     "schema_version": 3,
     "solution": true,
     "task": false
    },
    "tags": []
   },
   "outputs": [],
   "source": [
    "def export_circuit(circuit):\n",
    "\n",
    "    gate_list = []\n",
    "\n",
    "    for moment in circuit:\n",
    "        for op in moment:\n",
    "            \n",
    "            if op.gate == cirq.H:\n",
    "                gate_list.append({\"gate\": \"h\", \"qubits\": [op.qubits[0].x]})\n",
    "            elif op.gate == cirq.CX:\n",
    "                gate_list.append({\"gate\": \"cx\", \"qubits\": [op.qubits[0].x, op.qubits[1].x]})\n",
    "            elif op.gate == cirq.X:\n",
    "                gate_list.append({\"gate\": \"h\", \"qubits\": [op.qubits[0].x]})\n",
    "                for _ in range(4):\n",
    "                    gate_list.append({\"gate\": \"t\", \"qubits\": [op.qubits[0].x]})\n",
    "                gate_list.append({\"gate\": \"h\", \"qubits\": [op.qubits[0].x]})\n",
    "            elif op.gate == cirq.Z:\n",
    "                for _ in range(4):\n",
    "                    gate_list.append({\"gate\": \"t\", \"qubits\": [op.qubits[0].x]})\n",
    "            elif op.gate == cirq.I:\n",
    "                gate_list.append({\"gate\": \"i\", \"qubits\": [op.qubits[0].x]})\n",
    "            elif isinstance(op.gate, CNNOT):\n",
    "                targets = [q.x for q in op.qubits[1:]]\n",
    "                control = op.qubits[0].x\n",
    "                for t in targets:\n",
    "                    gate_list.append({\"gate\": \"cx\", \"qubits\": [control, t]})\n",
    "                \n",
    "\n",
    "    return gate_list"
   ]
  },
  {
   "cell_type": "markdown",
   "id": "e7e0af8c-e3c6-4f16-852f-c00a7c832090",
   "metadata": {
    "deletable": false,
    "editable": false,
    "nbgrader": {
     "cell_type": "markdown",
     "checksum": "a4a5492dc2b04c40af6204882e024599",
     "grade": false,
     "grade_id": "cell-3fc9b027025adf4c",
     "locked": true,
     "schema_version": 3,
     "solution": false,
     "task": false
    },
    "tags": []
   },
   "source": [
    "## 4. Evaluation\n",
    "\n",
    "Either by using the previous export function, or any other format (e.g. QASM), simulate the original circuit and the optimized circuit. Use the same simulator type for benchmarking the performance gain. *Stabilizer simulators* (e.g. https://www.scottaaronson.com/chp/) are allowed, too.\n",
    "\n",
    "**Bonus point (+1)** for using the simulator developed in the past exercise. This includes using the export function from above."
   ]
  },
  {
   "cell_type": "code",
   "execution_count": 32,
   "id": "1676ba55-0f5e-4b13-8982-ebad5799cfba",
   "metadata": {
    "deletable": false,
    "nbgrader": {
     "cell_type": "code",
     "checksum": "6b2460c4120de770c88e47567adfe760",
     "grade": true,
     "grade_id": "cell-845d7a695afcf020",
     "locked": false,
     "points": 2,
     "schema_version": 3,
     "solution": true,
     "task": false
    },
    "tags": []
   },
   "outputs": [],
   "source": [
    "import numpy as np\n",
    "import math\n",
    "import random\n",
    "import itertools\n",
    "import collections\n",
    "\n",
    "# Define X gate (CNOT is controlled-X):\n",
    "X = np.array([\n",
    "  [0, 1],\n",
    "  [1, 0]\n",
    "])\n",
    "\n",
    "# Define 2x2 Identity\n",
    "I = np.identity(2)\n",
    "\n",
    "# Define Hadamard gate:\n",
    "H = 1/np.sqrt(2)*np.array([\n",
    "  [1, 1],\n",
    "  [1, -1]\n",
    "])\n",
    "\n",
    "# Define T gate:\n",
    "T = np.array([\n",
    "  [1, 0],\n",
    "  [0, np.exp(1j*np.pi/4)]\n",
    "])\n",
    "\n",
    "# Define projection operator |0><0|\n",
    "P0x0 = np.array([\n",
    "  [1, 0],\n",
    "  [0, 0]\n",
    "])\n",
    "\n",
    "# Define projection operator |1><1|\n",
    "P1x1 = np.array([\n",
    "  [0, 0],\n",
    "  [0, 1]\n",
    "])\n",
    "\n",
    "\n",
    "def get_ground_state(num_qubits):\n",
    "    st = np.zeros(2 ** num_qubits)\n",
    "    st[0] = 1\n",
    "    return st\n",
    "\n",
    "def get_operator(num_qubits, gate_unitary, qubits):\n",
    "    op = 1\n",
    "    op2 = 1\n",
    "    if len(qubits) > 1:\n",
    "        for i in range(num_qubits):\n",
    "            if i == qubits[0]:\n",
    "                op = np.kron(op, P0x0)\n",
    "                op2 = np.kron(op2,P1x1)\n",
    "            elif i == qubits[1]:\n",
    "                op = np.kron(op, I)\n",
    "                op2 = np.kron(op2, X)\n",
    "            else:\n",
    "                op = np.kron(op, I)  \n",
    "                op2 = np.kron(op2, I)\n",
    "        op = op + op2\n",
    "    else:\n",
    "        for i in range(num_qubits):\n",
    "            if i == qubits[0]:\n",
    "                op = np.kron(op, gate_unitary)\n",
    "            else:\n",
    "                op = np.kron(op, I)  \n",
    "\n",
    "    return op\n",
    "\n",
    "def run_program(program):\n",
    "    # read program, and for each gate:\n",
    "    #   - calculate matrix operator\n",
    "    #   - multiply state with operator\n",
    "    # return final state\n",
    "\n",
    "    # Find out num qubits\n",
    "    num_qubits = 0\n",
    "    for op in program:\n",
    "        if num_qubits < max(op[\"qubits\"]):\n",
    "            num_qubits = max(op[\"qubits\"])\n",
    "    # Indices run from zero, but number starts from 1\n",
    "    num_qubits += 1\n",
    "\n",
    "    # See diVincenzo criteria -- init to |00000...0>\n",
    "    # In this example, \"|0>\"\n",
    "    state = get_ground_state(num_qubits)\n",
    "    # print(\"input:\", state)\n",
    "\n",
    "    output_state = np.array(state)\n",
    "    un = 0\n",
    "    for operation in program:\n",
    "        if operation[\"gate\"] == \"h\":\n",
    "            # print(\"we do Hadamard!\")\n",
    "            un = get_operator(num_qubits, H, operation[\"qubits\"])\n",
    "        if operation[\"gate\"] == \"cx\":\n",
    "            # print(\"we do CNOT!\")\n",
    "            un = get_operator(num_qubits, X, operation[\"qubits\"])\n",
    "        if operation[\"gate\"] == \"t\":\n",
    "            # print(\"we do T!\")\n",
    "            un = get_operator(num_qubits, T, operation[\"qubits\"])\n",
    "    \n",
    "        output_state = np.dot(un, output_state)\n",
    "\n",
    "    return output_state\n",
    "\n",
    "\n",
    "def measure_all(state_vector):\n",
    "    num_qubits = int(np.log2(len(state_vector)))\n",
    "    res = np.square(np.absolute(state_vector))\n",
    "    mes = \"\"\n",
    "    \n",
    "    for i in range(num_qubits):\n",
    "        mes += str(random.choices([0, 1], weights=[res[i], 1-res[i]], k=1)[0])\n",
    "        \n",
    "    states = list(itertools.product([0, 1], repeat=num_qubits))\n",
    "    states = [\"\".join(map(str, x)) for x in states]\n",
    "\n",
    "    return random.choices(states, weights=res, k=1)[0]\n",
    "\n",
    "def get_counts(state_vector, num_shots):  \n",
    "    lista = []\n",
    "    for i in range(num_shots):\n",
    "        state_str = ( f\"{measure_all(state_vector)}\")\n",
    "        lista.append(state_str)\n",
    "\n",
    "    counter = collections.Counter(lista)\n",
    "    print(counter)\n",
    "    return counter\n",
    "\n",
    "import time\n",
    "\n",
    "def evaluate_circuit(circuit):\n",
    "    l = -1\n",
    "    \n",
    "    ex_circ = export_circuit(circuit)\n",
    "    start = time.time()\n",
    "    simulator = cirq.Simulator()\n",
    "    result = simulator.simulate(circuit)\n",
    "    # run_program(ex_circ)\n",
    "    end = time.time()\n",
    "    l = end - start\n",
    "    \n",
    "    return l"
   ]
  },
  {
   "cell_type": "markdown",
   "id": "22a30f6c-dfdb-44f8-b033-1bfc03ee262b",
   "metadata": {
    "deletable": false,
    "editable": false,
    "nbgrader": {
     "cell_type": "markdown",
     "checksum": "5668e9d74bdeb2c2363766a18ef779f5",
     "grade": false,
     "grade_id": "cell-f1cbaf738fbb0e5c",
     "locked": true,
     "schema_version": 3,
     "solution": false,
     "task": false
    },
    "tags": []
   },
   "source": [
    "The output of the evaluation should be plot with two lines: one for the original circuit, another for the optimized circuit. The circuits should be simulated for values of $n$ between 3 and 11, and the secret should be the all ones string `1...1`."
   ]
  },
  {
   "cell_type": "code",
   "execution_count": 33,
   "id": "2392e984-b123-4354-82e1-5b4b505e9f20",
   "metadata": {
    "deletable": false,
    "editable": false,
    "nbgrader": {
     "cell_type": "code",
     "checksum": "cf563803702b39faa306119e144f575b",
     "grade": false,
     "grade_id": "cell-013dc4fb7fd024a4",
     "locked": true,
     "schema_version": 3,
     "solution": false,
     "task": false
    },
    "tags": []
   },
   "outputs": [
    {
     "data": {
      "image/png": "[encoded data removed]",
      "text/plain": [
       "<Figure size 800x500 with 1 Axes>"
      ]
     },
     "metadata": {},
     "output_type": "display_data"
    }
   ],
   "source": [
    "# This version of the Benchmarking code uses centered averages\n",
    "# DO NOT EDIT THIS CELL\n",
    "\n",
    "import matplotlib.pyplot as plt\n",
    "\n",
    "def centered_average(nums):\n",
    "    if len(nums) < 3:\n",
    "        return nums[0]\n",
    "\n",
    "    return (sum(nums) - max(nums) - min(nums)) / (len(nums) - 2)\n",
    "\n",
    "x = range(3, 12)\n",
    "y1 = [0] * len(x)\n",
    "y2 = [0] * len(x)\n",
    "\n",
    "for i, nr_q in enumerate(x):\n",
    "    secret = '1' * nr_q\n",
    "    circuit_orig = bernstein_vazirani(nr_q, secret)\n",
    "    circuit_opt = optimize_bv(nr_q, circuit_orig)\n",
    "\n",
    "    tmp1 = [evaluate_circuit(circuit_orig) for i in range(10)]\n",
    "    tmp2 = [evaluate_circuit(circuit_opt) for i in range(10)]\n",
    "\n",
    "    y1[i] = centered_average(tmp1)\n",
    "    y2[i] = centered_average(tmp2)\n",
    "\n",
    "# Example from https://pythonbasics.org/matplotlib-line-chart/\n",
    "plt.figure(num = 3, figsize=(8, 5))\n",
    "plt.plot(x, y2, \n",
    "         color='green',   \n",
    "         linewidth=2.0,  \n",
    "         linestyle='--' )\n",
    "plt.plot(x, y1, \n",
    "         color='red',   \n",
    "         linewidth=1.0,  \n",
    "         linestyle='--' \n",
    "        )\n",
    "\n",
    "plt.show()"
   ]
  },
  {
   "cell_type": "markdown",
   "id": "b4fad344-87eb-46f6-a76e-3366649a88db",
   "metadata": {
    "deletable": false,
    "editable": false,
    "nbgrader": {
     "cell_type": "markdown",
     "checksum": "1640bb1f4afbcfc4a657bcac8c7e4ce5",
     "grade": false,
     "grade_id": "cell-3e430866d1b86298",
     "locked": true,
     "points": 4,
     "schema_version": 3,
     "solution": false,
     "task": true
    },
    "tags": []
   },
   "source": [
    "Please run the code above to plot."
   ]
  },
  {
   "cell_type": "markdown",
   "id": "76821cbd-a84b-444b-ba03-333e154cce91",
   "metadata": {
    "deletable": false,
    "editable": false,
    "nbgrader": {
     "cell_type": "markdown",
     "checksum": "8949021897c1564b26d1fe1b18df844b",
     "grade": false,
     "grade_id": "cell-820a49b3f38b3880",
     "locked": true,
     "schema_version": 3,
     "solution": false,
     "task": false
    },
    "tags": []
   },
   "source": [
    "## Tests\n",
    "\n",
    "The following lines of code will be used to evaluate the output of the code. The outputs will not be evaluated automatically, but by visual inspection. This is to guarantee that small bugs/issues can be taken into consideration."
   ]
  },
  {
   "cell_type": "code",
   "execution_count": 34,
   "id": "960efb7c-01b4-4178-b172-10bfcd9f626b",
   "metadata": {
    "deletable": false,
    "editable": false,
    "nbgrader": {
     "cell_type": "code",
     "checksum": "c68b8f77fcfbd24922edab16d605e0b8",
     "grade": false,
     "grade_id": "cell-b73bcf25f4a50ddf",
     "locked": true,
     "schema_version": 3,
     "solution": false,
     "task": false
    },
    "tags": []
   },
   "outputs": [
    {
     "name": "stdout",
     "output_type": "stream",
     "text": [
      "***** Compiling circuits\n",
      "0: ───H───@───H───────────\n",
      "          │\n",
      "1: ───H───┼───@───H───────\n",
      "          │   │\n",
      "2: ───H───┼───┼───@───H───\n",
      "          │   │   │\n",
      "3: ───H───X───X───X───H───\n",
      "0: ───H───H───────────────\n",
      "\n",
      "1: ───H───H───────────────\n",
      "\n",
      "2: ───H───@───H───────────\n",
      "          │\n",
      "3: ───H───┼───@───H───────\n",
      "          │   │\n",
      "4: ───H───┼───┼───@───H───\n",
      "          │   │   │\n",
      "5: ───H───X───X───X───H───\n",
      "***** Optimising circuits\n",
      "0: ───X───\n",
      "      │\n",
      "1: ───X───\n",
      "      │\n",
      "2: ───X───\n",
      "      │\n",
      "3: ───@───\n",
      "2: ───X───\n",
      "      │\n",
      "3: ───X───\n",
      "      │\n",
      "4: ───X───\n",
      "      │\n",
      "5: ───@───\n",
      "***** Exporting circuits\n",
      "[{'gate': 'cx', 'qubits': [3, 0]}, {'gate': 'cx', 'qubits': [3, 1]}, {'gate': 'cx', 'qubits': [3, 2]}]\n",
      "0\n",
      "3\n",
      "0\n",
      "***** Benchmarking circuits\n",
      "True\n",
      "True\n",
      "True\n",
      "True\n",
      "True\n",
      "True\n",
      "True\n",
      "True\n",
      "True\n"
     ]
    }
   ],
   "source": [
    "# DO NOT EDIT THIS CELL\n",
    "\n",
    "\n",
    "# Correct circuits\n",
    "print(\"***** Compiling circuits\")\n",
    "circuit_orig_1 = bernstein_vazirani(3, \"111\")\n",
    "circuit_orig_2 = bernstein_vazirani(5, \"00111\")\n",
    "# 0.5 - VISIBLE\n",
    "print(circuit_orig_1)\n",
    "print(circuit_orig_2)\n",
    "\n",
    "# Optimize circuits\n",
    "print(\"***** Optimising circuits\")\n",
    "circuit_opt_1 = optimize_bv(3, bernstein_vazirani(3, \"111\"))\n",
    "circuit_opt_2 = optimize_bv(5, bernstein_vazirani(5, \"00111\"))\n",
    "# 1.0 - VISIBLE\n",
    "print(circuit_opt_1)\n",
    "print(circuit_opt_2)\n",
    "\n",
    "\n",
    "# Export circuits\n",
    "print(\"***** Exporting circuits\")\n",
    "circuit_exp_1 = export_circuit(circuit_opt_1)\n",
    "circuit_exp_2 = export_circuit(circuit_opt_2)\n",
    "# General form 0.25\n",
    "print(circuit_exp_1)\n",
    "# How many T gates? 0.25\n",
    "print(len([y for y in circuit_exp_1 if y['gate']=='t']))\n",
    "# A single CX? 0.25\n",
    "print(len([y for y in circuit_exp_2 if y['gate']=='cx']))\n",
    "# ... operating on multiple qubits? 0.25\n",
    "print(len([y for y in circuit_exp_2 if len(y['qubits'])==4]))\n",
    "\n",
    "print(\"***** Benchmarking circuits\")\n",
    "# Benchmark circuits\n",
    "# 0.5\n",
    "for i, val in enumerate(y1):\n",
    "    # Expect True everywhere, because optimized circuit has shorter execution time\n",
    "    print(val - y2[i] > 0)"
   ]
  },
  {
   "cell_type": "markdown",
   "id": "dd63d911-19e7-4018-a2f3-cbc757c9bb9d",
   "metadata": {
    "deletable": false,
    "editable": false,
    "nbgrader": {
     "cell_type": "markdown",
     "checksum": "035609b5b030645bd82750f6d8a9c2fa",
     "grade": false,
     "grade_id": "cell-02342b001fb1f360",
     "locked": true,
     "points": 4,
     "schema_version": 3,
     "solution": false,
     "task": true
    },
    "tags": []
   },
   "source": [
    "Please run the tests above to test your code. Refer to the comments as guidance on what you should be seeing."
   ]
  },
  {
   "cell_type": "code",
   "execution_count": null,
   "id": "253e837c-e5b2-4df1-92ad-5c74a31db77f",
   "metadata": {},
   "outputs": [],
   "source": []
  }
 ],
 "metadata": {
  "kernelspec": {
   "display_name": "Python 3",
   "language": "python",
   "name": "python3"
  },
  "language_info": {
   "codemirror_mode": {
    "name": "ipython",
    "version": 3
   },
   "file_extension": ".py",
   "mimetype": "text/x-python",
   "name": "python",
   "nbconvert_exporter": "python",
   "pygments_lexer": "ipython3",
   "version": "3.10.12"
  }
 },
 "nbformat": 4,
 "nbformat_minor": 5
}
